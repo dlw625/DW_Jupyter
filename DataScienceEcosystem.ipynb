{
 "cells": [
  {
   "cell_type": "markdown",
   "id": "10d965f5-88b4-4cf3-b34f-e2babb20d4b7",
   "metadata": {
    "tags": []
   },
   "source": [
    "# Data Science Tools and Ecosystem"
   ]
  },
  {
   "cell_type": "markdown",
   "id": "39891301-eeab-46b5-bca4-cfb40ecf21cc",
   "metadata": {},
   "source": [
    "### In this notebook, Data Science Tools and Ecosystem are summarized"
   ]
  },
  {
   "cell_type": "markdown",
   "id": "e0c3056a-0f34-47c2-8797-7179da0bbe96",
   "metadata": {},
   "source": [
    "**Objectives**\n",
    " - List popular Data Science languages\n",
    " - List commonly used Data Science libraries\n",
    " - Provide examples of arithmetic operations "
   ]
  },
  {
   "cell_type": "markdown",
   "id": "7fec62f3-9849-4093-af9c-714f4f83c8d7",
   "metadata": {},
   "source": [
    "Some of the popular languages that Data Scientists use are:\n",
    "1. Pyhon\n",
    "2. R\n",
    "3. SQL"
   ]
  },
  {
   "cell_type": "markdown",
   "id": "385ac640-f789-4691-9441-44b6c6540111",
   "metadata": {},
   "source": [
    "Some of the commonly used libraries used by Data Scientists include:\n",
    "1. Numpy\n",
    "2. Pandas\n",
    "3. Keras"
   ]
  },
  {
   "cell_type": "markdown",
   "id": "1052fb9c-5cea-49c9-89d6-f4d930b94086",
   "metadata": {},
   "source": [
    "| Data Science Tools |\n",
    "|---|\n",
    "|Tensorflow|\n",
    "|RapidMiner|\n",
    "|RStudio|"
   ]
  },
  {
   "cell_type": "markdown",
   "id": "be89235b-b6f1-40d8-afaa-8b77a574713c",
   "metadata": {},
   "source": [
    "### Below are a few examples of evaluating arithmetic expressions in Python."
   ]
  },
  {
   "cell_type": "code",
   "execution_count": 1,
   "id": "8725afa2-4883-4f5e-9da7-5e4ede0e7d62",
   "metadata": {},
   "outputs": [
    {
     "data": {
      "text/plain": [
       "17"
      ]
     },
     "execution_count": 1,
     "metadata": {},
     "output_type": "execute_result"
    }
   ],
   "source": [
    "# This is a simple arithmetic expression to multiply then add integers\n",
    "(3*4)+5"
   ]
  },
  {
   "cell_type": "code",
   "execution_count": 2,
   "id": "990280e9-ecfc-44f9-a65d-29ad2e8bcfe3",
   "metadata": {},
   "outputs": [
    {
     "data": {
      "text/plain": [
       "3.3333333333333335"
      ]
     },
     "execution_count": 2,
     "metadata": {},
     "output_type": "execute_result"
    }
   ],
   "source": [
    "# This will convert 200 minutes to hours by dividing by 60.\n",
    "200/60"
   ]
  },
  {
   "cell_type": "markdown",
   "id": "681ad79d-0e48-4cc9-ba6e-b1356e56766d",
   "metadata": {},
   "source": [
    "## Author\n",
    "Danny Webb"
   ]
  },
  {
   "cell_type": "code",
   "execution_count": null,
   "id": "c2b948b2-0775-4034-9764-e4838e412315",
   "metadata": {},
   "outputs": [],
   "source": []
  }
 ],
 "metadata": {
  "kernelspec": {
   "display_name": "Python",
   "language": "python",
   "name": "conda-env-python-py"
  },
  "language_info": {
   "codemirror_mode": {
    "name": "ipython",
    "version": 3
   },
   "file_extension": ".py",
   "mimetype": "text/x-python",
   "name": "python",
   "nbconvert_exporter": "python",
   "pygments_lexer": "ipython3",
   "version": "3.7.12"
  }
 },
 "nbformat": 4,
 "nbformat_minor": 5
}
